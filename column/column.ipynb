{
 "cells": [
  {
   "cell_type": "markdown",
   "metadata": {},
   "source": [
    "# 便利な標準ライブラリ、サードパーティ製パッケージ\n",
    "\n",
    "* コラムのコードを実行した Jupyter Notebook"
   ]
  },
  {
   "cell_type": "markdown",
   "metadata": {},
   "source": [
    "## Pythonの付属バッテリー、標準ライブラリ\n",
    "\n",
    "### sysとos：システムパラメータとOS"
   ]
  },
  {
   "cell_type": "code",
   "execution_count": 6,
   "metadata": {},
   "outputs": [
    {
     "data": {
      "text/plain": [
       "'/Users/takanori/Books/pymook-samplecode/2_column/spam/spam'"
      ]
     },
     "execution_count": 6,
     "metadata": {},
     "output_type": "execute_result"
    }
   ],
   "source": [
    "import os\n",
    "os.mkdir('spam') # ディレクトリを作成する\n",
    "os.chdir('spam') # ディレクトリを移動する\n",
    "os.getcwd() # 現在のディレクトリを取得する\n",
    "\n",
    "os.chdir('..') # 元のディレクトリに戻る"
   ]
  },
  {
   "cell_type": "code",
   "execution_count": 2,
   "metadata": {},
   "outputs": [
    {
     "ename": "SystemExit",
     "evalue": "1",
     "output_type": "error",
     "traceback": [
      "An exception has occurred, use %tb to see the full traceback.\n",
      "\u001b[0;31mSystemExit\u001b[0m\u001b[0;31m:\u001b[0m 1\n"
     ]
    },
    {
     "name": "stderr",
     "output_type": "stream",
     "text": [
      "/Users/takanori/Books/pymook-samplecode/2_column/env/lib/python3.6/site-packages/IPython/core/interactiveshell.py:2870: UserWarning: To exit: use 'exit', 'quit', or Ctrl-D.\n",
      "  warn(\"To exit: use 'exit', 'quit', or Ctrl-D.\", stacklevel=1)\n"
     ]
    }
   ],
   "source": [
    "import sys\n",
    "sys.exit(1) # 終了ステータス1で異常終了する"
   ]
  },
  {
   "cell_type": "markdown",
   "metadata": {},
   "source": [
    "### timeとdatetime：日付と時刻"
   ]
  },
  {
   "cell_type": "code",
   "execution_count": 3,
   "metadata": {},
   "outputs": [
    {
     "data": {
      "text/plain": [
       "'2017-08-03 23:57:40'"
      ]
     },
     "execution_count": 3,
     "metadata": {},
     "output_type": "execute_result"
    }
   ],
   "source": [
    "import time\n",
    "localtime = time.localtime() # 現在時刻をローカルタイムで取得する\n",
    "time.strftime('%Y-%m-%d %H:%M:%S', localtime) # 日時をフォーマットして返す"
   ]
  },
  {
   "cell_type": "code",
   "execution_count": 4,
   "metadata": {},
   "outputs": [
    {
     "data": {
      "text/plain": [
       "'2017-08-03T23:57:53.926785'"
      ]
     },
     "execution_count": 4,
     "metadata": {},
     "output_type": "execute_result"
    }
   ],
   "source": [
    "import datetime\n",
    "now = datetime.datetime.now() # 現在日時を取得する\n",
    "now.isoformat() # 現在日時をISOフォーマットで返す"
   ]
  },
  {
   "cell_type": "code",
   "execution_count": 5,
   "metadata": {},
   "outputs": [
    {
     "data": {
      "text/plain": [
       "150"
      ]
     },
     "execution_count": 5,
     "metadata": {},
     "output_type": "execute_result"
    }
   ],
   "source": [
    "nextyear = datetime.datetime(2018, 1, 1) # 2018年の1月1日の日時を生成\n",
    "delta = nextyear - now\n",
    "delta.days # 来年まで261日あることを確認"
   ]
  },
  {
   "cell_type": "markdown",
   "metadata": {},
   "source": [
    "### mathとrandom：数学関数と乱数"
   ]
  },
  {
   "cell_type": "code",
   "execution_count": 7,
   "metadata": {},
   "outputs": [
    {
     "name": "stdout",
     "output_type": "stream",
     "text": [
      "3.141592653589793\n",
      "1.4142135623730951\n"
     ]
    }
   ],
   "source": [
    "import math\n",
    "print(math.pi) # 定数π\n",
    "print(math.sqrt(2)) # 平方根"
   ]
  },
  {
   "cell_type": "code",
   "execution_count": 8,
   "metadata": {},
   "outputs": [
    {
     "name": "stdout",
     "output_type": "stream",
     "text": [
      "940\n",
      "spam\n",
      "['ham', 'spam', 'eggs', 'foo', 'bar', 'baz']\n"
     ]
    }
   ],
   "source": [
    "import random\n",
    "print(random.randint(1, 1000)) # 指定された範囲（1から1000）の間の整数を返す\n",
    "data = ['spam', 'ham', 'eggs', 'foo', 'bar', 'baz']\n",
    "print(random.choice(data)) # ランダムに要素を取り出す\n",
    "random.shuffle(data) # 要素の順番をシャッフルする\n",
    "print(data)"
   ]
  },
  {
   "cell_type": "markdown",
   "metadata": {},
   "source": [
    "### itertools：イテレータ生成関数"
   ]
  },
  {
   "cell_type": "code",
   "execution_count": 9,
   "metadata": {},
   "outputs": [
    {
     "name": "stdout",
     "output_type": "stream",
     "text": [
      "A\n",
      "B\n",
      "C\n",
      "D\n",
      "E\n",
      "F\n"
     ]
    }
   ],
   "source": [
    "import itertools\n",
    "for x in itertools.chain('ABC', 'DEF'): # 全体をつなげて一つのシーケンスにする\n",
    "    print(x)"
   ]
  },
  {
   "cell_type": "code",
   "execution_count": 10,
   "metadata": {},
   "outputs": [
    {
     "name": "stdout",
     "output_type": "stream",
     "text": [
      "('A', 'B')\n",
      "('A', 'C')\n",
      "('A', 'D')\n",
      "('B', 'C')\n",
      "('B', 'D')\n",
      "('C', 'D')\n"
     ]
    }
   ],
   "source": [
    "for x in itertools.combinations('ABCD', 2): # 長さ2の組み合わせを返す\n",
    "    print(x)"
   ]
  },
  {
   "cell_type": "markdown",
   "metadata": {},
   "source": [
    "### shutil：高レベルなファイル操作"
   ]
  },
  {
   "cell_type": "code",
   "execution_count": 28,
   "metadata": {},
   "outputs": [],
   "source": [
    "import shutil\n",
    "shutil.copytree('src_dir', 'dst_dir') # src_dir以下のファイルをdst_dirにコピーする\n",
    "shutil.rmtree('src_dir') # src_dir以下のファイルをすべて削除する"
   ]
  },
  {
   "cell_type": "markdown",
   "metadata": {},
   "source": [
    "### json：JSONエンコーダとデコーダ"
   ]
  },
  {
   "cell_type": "code",
   "execution_count": 12,
   "metadata": {},
   "outputs": [
    {
     "data": {
      "text/plain": [
       "'{\"spam\": \"SPAM\", \"ham\": true, \"eggs\": null}'"
      ]
     },
     "execution_count": 12,
     "metadata": {},
     "output_type": "execute_result"
    }
   ],
   "source": [
    "import json\n",
    "data = {'spam': 'SPAM', 'ham': True, 'eggs': None} # 辞書型のデータを定義\n",
    "json.dumps(data) # json形式の文字列に変換する"
   ]
  },
  {
   "cell_type": "markdown",
   "metadata": {},
   "source": [
    "## Pythonをさらに強力にするサードパーティ製パッケージ\n",
    "\n",
    "* 下記のコマンドをターミナルで実行して、venv 環境を作成し、各種パッケージをインストールする\n",
    "\n",
    "```\n",
    "$ python3.6 -m venv env\n",
    "$ source env/bin/activate\n",
    "(env) $ pip install python-dateutil\n",
    "(env) $ pip install requests\n",
    "(env) $ pip install beautifulsoup4\n",
    "(env) $ pip install pillow\n",
    "```"
   ]
  },
  {
   "cell_type": "markdown",
   "metadata": {},
   "source": [
    "### dateutil：日時操作の強力な拡張"
   ]
  },
  {
   "cell_type": "code",
   "execution_count": 15,
   "metadata": {},
   "outputs": [
    {
     "data": {
      "text/plain": [
       "datetime.datetime(2017, 4, 14, 20, 34, 20, tzinfo=tzutc())"
      ]
     },
     "execution_count": 15,
     "metadata": {},
     "output_type": "execute_result"
    }
   ],
   "source": [
    "import dateutil.parser\n",
    "dateutil.parser.parse(\"Fri Apr 14 20:34:20 UTC 2017\") # 日付の文字列をdatetimeに変換"
   ]
  },
  {
   "cell_type": "code",
   "execution_count": 16,
   "metadata": {},
   "outputs": [
    {
     "data": {
      "text/plain": [
       "datetime.datetime(2017, 4, 14, 20, 34, 20, tzinfo=tzlocal())"
      ]
     },
     "execution_count": 16,
     "metadata": {},
     "output_type": "execute_result"
    }
   ],
   "source": [
    "dateutil.parser.parse(\"2017-04-14 20:34:20 JST\")"
   ]
  },
  {
   "cell_type": "code",
   "execution_count": 17,
   "metadata": {},
   "outputs": [
    {
     "data": {
      "text/plain": [
       "datetime.datetime(2017, 4, 14, 0, 0)"
      ]
     },
     "execution_count": 17,
     "metadata": {},
     "output_type": "execute_result"
    }
   ],
   "source": [
    "dateutil.parser.parse(\"Apr-14-2017\")"
   ]
  },
  {
   "cell_type": "markdown",
   "metadata": {},
   "source": [
    "### Requests：わかりやすいHTTPクライアント"
   ]
  },
  {
   "cell_type": "code",
   "execution_count": 19,
   "metadata": {},
   "outputs": [
    {
     "name": "stdout",
     "output_type": "stream",
     "text": [
      "200 text/json; charset=utf-8\n",
      "【深層学習ハンズオン】Aidemy meetup vol.3（1回目/全4回）-画像識別AIを作ろう 2017-08-13T13:15:00+09:00\n",
      "【未経験者向け】一緒にプログラミング始めませんか？#03 2017-08-20T10:00:00+09:00\n",
      "【プログラミング未経験者向け】一緒にプログラミング始めませんか？ 2017-06-25T10:00:00+09:00\n"
     ]
    }
   ],
   "source": [
    "import requests\n",
    "\n",
    "r = requests.get('http://connpass.com/api/v1/event/?keyword=python') # 指定URLにアクセス\n",
    "print(r.status_code, r.headers['content-type']) # ステータス、コンテンツタイプを取得\n",
    "for event in r.json()['events'][:3]: # イベントの先頭3件を取得\n",
    "    print(event['title'], event['started_at']) # イベントのタイトル、日時を表示"
   ]
  },
  {
   "cell_type": "markdown",
   "metadata": {},
   "source": [
    "### BeautifulSoup 4：HTMLとXMLファイルのパーサー"
   ]
  },
  {
   "cell_type": "code",
   "execution_count": 20,
   "metadata": {},
   "outputs": [
    {
     "name": "stdout",
     "output_type": "stream",
     "text": [
      "300\n",
      "1. はじめに\n",
      "2. 組み込み関数\n",
      "3. 組み込み定数\n"
     ]
    }
   ],
   "source": [
    "from bs4 import BeautifulSoup\n",
    "import requests\n",
    "r = requests.get('http://docs.python.jp/3/library/index.html')\n",
    "soup = BeautifulSoup(r.content, 'html.parser') # HTMLをパース\n",
    "toctree = soup.find('div', 'toctree-wrapper') # classがtoctree-wrapperのdiv要素を取得\n",
    "links = toctree.find_all('a') # aタグを全て取得\n",
    "print(len(links)) # リンクの数を取得\n",
    "for link in links[:3]: # 先頭3件を表示\n",
    "    print(link.text)"
   ]
  },
  {
   "cell_type": "markdown",
   "metadata": {},
   "source": [
    "### Pillow：画像処理ライブラリ"
   ]
  },
  {
   "cell_type": "code",
   "execution_count": 27,
   "metadata": {},
   "outputs": [],
   "source": [
    "from PIL import Image\n",
    "image = Image.open('sample.jpg') # 画像を読み込む\n",
    "half = (image.size[0] // 2, image.size[1] // 2)\n",
    "half_image = image.resize(half, Image.ANTIALIAS) # 画像を1/2に縮小\n",
    "half_image.save('sample-half.jpg') # 縮小した画像を保存\n",
    "rotate_image = image.transpose(Image.ROTATE_90) # 画像を90度回転\n",
    "rotate_image.save('sample-rotate.png') # 回転した画像をPNG形式で保存"
   ]
  },
  {
   "cell_type": "code",
   "execution_count": null,
   "metadata": {
    "collapsed": true
   },
   "outputs": [],
   "source": []
  }
 ],
 "metadata": {
  "kernelspec": {
   "display_name": "Python 3",
   "language": "python",
   "name": "python3"
  },
  "language_info": {
   "codemirror_mode": {
    "name": "ipython",
    "version": 3
   },
   "file_extension": ".py",
   "mimetype": "text/x-python",
   "name": "python",
   "nbconvert_exporter": "python",
   "pygments_lexer": "ipython3",
   "version": "3.6.2"
  }
 },
 "nbformat": 4,
 "nbformat_minor": 2
}
