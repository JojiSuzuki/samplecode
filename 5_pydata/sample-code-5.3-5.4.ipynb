{
 "cells": [
  {
   "cell_type": "markdown",
   "metadata": {},
   "source": [
    "## 実践 レゴデータ分析［データ探索編］"
   ]
  },
  {
   "cell_type": "markdown",
   "metadata": {},
   "source": [
    "### List 5.6"
   ]
  },
  {
   "cell_type": "code",
   "execution_count": 1,
   "metadata": {},
   "outputs": [],
   "source": [
    "import pandas as pd"
   ]
  },
  {
   "cell_type": "markdown",
   "metadata": {},
   "source": [
    "### List 5.8"
   ]
  },
  {
   "cell_type": "code",
   "execution_count": 2,
   "metadata": {},
   "outputs": [
    {
     "data": {
      "text/html": [
       "<div>\n",
       "<style>\n",
       "    .dataframe thead tr:only-child th {\n",
       "        text-align: right;\n",
       "    }\n",
       "\n",
       "    .dataframe thead th {\n",
       "        text-align: left;\n",
       "    }\n",
       "\n",
       "    .dataframe tbody tr th {\n",
       "        vertical-align: top;\n",
       "    }\n",
       "</style>\n",
       "<table border=\"1\" class=\"dataframe\">\n",
       "  <thead>\n",
       "    <tr style=\"text-align: right;\">\n",
       "      <th></th>\n",
       "      <th>number</th>\n",
       "      <th>name</th>\n",
       "      <th>image</th>\n",
       "      <th>theme</th>\n",
       "      <th>subtheme</th>\n",
       "      <th>year</th>\n",
       "      <th>rating</th>\n",
       "      <th>pieces</th>\n",
       "      <th>minifigs</th>\n",
       "      <th>us_price</th>\n",
       "      <th>eu_price</th>\n",
       "      <th>owner</th>\n",
       "      <th>want_it</th>\n",
       "    </tr>\n",
       "  </thead>\n",
       "  <tbody>\n",
       "    <tr>\n",
       "      <th>0</th>\n",
       "      <td>10251.0</td>\n",
       "      <td>Brick Bank</td>\n",
       "      <td>https://images.brickset.com/sets/small/10251-1...</td>\n",
       "      <td>Advanced Models</td>\n",
       "      <td>Modular Buildings</td>\n",
       "      <td>2016</td>\n",
       "      <td>4.6</td>\n",
       "      <td>2380.0</td>\n",
       "      <td>5.0</td>\n",
       "      <td>169.99</td>\n",
       "      <td>149.99</td>\n",
       "      <td>7695.0</td>\n",
       "      <td>4949.0</td>\n",
       "    </tr>\n",
       "    <tr>\n",
       "      <th>1</th>\n",
       "      <td>10252.0</td>\n",
       "      <td>Volkswagen Beetle</td>\n",
       "      <td>https://images.brickset.com/sets/small/10252-1...</td>\n",
       "      <td>Advanced Models</td>\n",
       "      <td>Vehicles</td>\n",
       "      <td>2016</td>\n",
       "      <td>5.0</td>\n",
       "      <td>1167.0</td>\n",
       "      <td>NaN</td>\n",
       "      <td>99.99</td>\n",
       "      <td>89.99</td>\n",
       "      <td>4185.0</td>\n",
       "      <td>2502.0</td>\n",
       "    </tr>\n",
       "    <tr>\n",
       "      <th>2</th>\n",
       "      <td>10253.0</td>\n",
       "      <td>Big Ben</td>\n",
       "      <td>https://images.brickset.com/sets/small/10253-1...</td>\n",
       "      <td>Advanced Models</td>\n",
       "      <td>Buildings</td>\n",
       "      <td>2016</td>\n",
       "      <td>5.0</td>\n",
       "      <td>4163.0</td>\n",
       "      <td>NaN</td>\n",
       "      <td>249.99</td>\n",
       "      <td>219.99</td>\n",
       "      <td>2323.0</td>\n",
       "      <td>2916.0</td>\n",
       "    </tr>\n",
       "    <tr>\n",
       "      <th>3</th>\n",
       "      <td>10254.0</td>\n",
       "      <td>Winter Holiday Train</td>\n",
       "      <td>https://images.brickset.com/sets/small/10254-1...</td>\n",
       "      <td>Advanced Models</td>\n",
       "      <td>Winter Village</td>\n",
       "      <td>2016</td>\n",
       "      <td>4.6</td>\n",
       "      <td>734.0</td>\n",
       "      <td>5.0</td>\n",
       "      <td>99.99</td>\n",
       "      <td>89.99</td>\n",
       "      <td>4955.0</td>\n",
       "      <td>1900.0</td>\n",
       "    </tr>\n",
       "    <tr>\n",
       "      <th>4</th>\n",
       "      <td>10654.0</td>\n",
       "      <td>XL Creative Brick Box</td>\n",
       "      <td>https://images.brickset.com/sets/small/10654-1...</td>\n",
       "      <td>Classic</td>\n",
       "      <td>Basic Set</td>\n",
       "      <td>2016</td>\n",
       "      <td>NaN</td>\n",
       "      <td>1600.0</td>\n",
       "      <td>NaN</td>\n",
       "      <td>NaN</td>\n",
       "      <td>59.99</td>\n",
       "      <td>279.0</td>\n",
       "      <td>170.0</td>\n",
       "    </tr>\n",
       "  </tbody>\n",
       "</table>\n",
       "</div>"
      ],
      "text/plain": [
       "    number                   name  \\\n",
       "0  10251.0             Brick Bank   \n",
       "1  10252.0      Volkswagen Beetle   \n",
       "2  10253.0                Big Ben   \n",
       "3  10254.0   Winter Holiday Train   \n",
       "4  10654.0  XL Creative Brick Box   \n",
       "\n",
       "                                               image            theme  \\\n",
       "0  https://images.brickset.com/sets/small/10251-1...  Advanced Models   \n",
       "1  https://images.brickset.com/sets/small/10252-1...  Advanced Models   \n",
       "2  https://images.brickset.com/sets/small/10253-1...  Advanced Models   \n",
       "3  https://images.brickset.com/sets/small/10254-1...  Advanced Models   \n",
       "4  https://images.brickset.com/sets/small/10654-1...          Classic   \n",
       "\n",
       "            subtheme  year  rating  pieces  minifigs  us_price  eu_price  \\\n",
       "0  Modular Buildings  2016     4.6  2380.0       5.0    169.99    149.99   \n",
       "1           Vehicles  2016     5.0  1167.0       NaN     99.99     89.99   \n",
       "2          Buildings  2016     5.0  4163.0       NaN    249.99    219.99   \n",
       "3     Winter Village  2016     4.6   734.0       5.0     99.99     89.99   \n",
       "4          Basic Set  2016     NaN  1600.0       NaN       NaN     59.99   \n",
       "\n",
       "    owner  want_it  \n",
       "0  7695.0   4949.0  \n",
       "1  4185.0   2502.0  \n",
       "2  2323.0   2916.0  \n",
       "3  4955.0   1900.0  \n",
       "4   279.0    170.0  "
      ]
     },
     "execution_count": 2,
     "metadata": {},
     "output_type": "execute_result"
    }
   ],
   "source": [
    "CSV_URL = 'https://raw.githubusercontent.com/pyfirst/samplecode/master/4_scraping/lego_scraper/brickset2016.csv'\n",
    "lego_df = pd.read_csv(CSV_URL)\n",
    "lego_df.head()"
   ]
  },
  {
   "cell_type": "markdown",
   "metadata": {},
   "source": [
    "### List 5.9"
   ]
  },
  {
   "cell_type": "code",
   "execution_count": 3,
   "metadata": {},
   "outputs": [
    {
     "data": {
      "text/plain": [
       "number      float64\n",
       "name         object\n",
       "image        object\n",
       "theme        object\n",
       "subtheme     object\n",
       "year          int64\n",
       "rating      float64\n",
       "pieces      float64\n",
       "minifigs    float64\n",
       "us_price    float64\n",
       "eu_price    float64\n",
       "owner       float64\n",
       "want_it     float64\n",
       "dtype: object"
      ]
     },
     "execution_count": 3,
     "metadata": {},
     "output_type": "execute_result"
    }
   ],
   "source": [
    "lego_df.dtypes"
   ]
  },
  {
   "cell_type": "markdown",
   "metadata": {
    "collapsed": true
   },
   "source": [
    "### List 5.10"
   ]
  },
  {
   "cell_type": "code",
   "execution_count": 4,
   "metadata": {},
   "outputs": [
    {
     "data": {
      "text/html": [
       "<div>\n",
       "<style>\n",
       "    .dataframe thead tr:only-child th {\n",
       "        text-align: right;\n",
       "    }\n",
       "\n",
       "    .dataframe thead th {\n",
       "        text-align: left;\n",
       "    }\n",
       "\n",
       "    .dataframe tbody tr th {\n",
       "        vertical-align: top;\n",
       "    }\n",
       "</style>\n",
       "<table border=\"1\" class=\"dataframe\">\n",
       "  <thead>\n",
       "    <tr style=\"text-align: right;\">\n",
       "      <th></th>\n",
       "      <th>number</th>\n",
       "      <th>name</th>\n",
       "      <th>image</th>\n",
       "      <th>theme</th>\n",
       "      <th>subtheme</th>\n",
       "      <th>year</th>\n",
       "      <th>rating</th>\n",
       "      <th>pieces</th>\n",
       "      <th>minifigs</th>\n",
       "      <th>us_price</th>\n",
       "      <th>eu_price</th>\n",
       "      <th>owner</th>\n",
       "      <th>want_it</th>\n",
       "    </tr>\n",
       "  </thead>\n",
       "  <tbody>\n",
       "    <tr>\n",
       "      <th>0</th>\n",
       "      <td>10251</td>\n",
       "      <td>Brick Bank</td>\n",
       "      <td>https://images.brickset.com/sets/small/10251-1...</td>\n",
       "      <td>Advanced Models</td>\n",
       "      <td>Modular Buildings</td>\n",
       "      <td>2016</td>\n",
       "      <td>4.6</td>\n",
       "      <td>2380.0</td>\n",
       "      <td>5.0</td>\n",
       "      <td>169.99</td>\n",
       "      <td>149.99</td>\n",
       "      <td>7695.0</td>\n",
       "      <td>4949.0</td>\n",
       "    </tr>\n",
       "    <tr>\n",
       "      <th>1</th>\n",
       "      <td>10252</td>\n",
       "      <td>Volkswagen Beetle</td>\n",
       "      <td>https://images.brickset.com/sets/small/10252-1...</td>\n",
       "      <td>Advanced Models</td>\n",
       "      <td>Vehicles</td>\n",
       "      <td>2016</td>\n",
       "      <td>5.0</td>\n",
       "      <td>1167.0</td>\n",
       "      <td>NaN</td>\n",
       "      <td>99.99</td>\n",
       "      <td>89.99</td>\n",
       "      <td>4185.0</td>\n",
       "      <td>2502.0</td>\n",
       "    </tr>\n",
       "    <tr>\n",
       "      <th>2</th>\n",
       "      <td>10253</td>\n",
       "      <td>Big Ben</td>\n",
       "      <td>https://images.brickset.com/sets/small/10253-1...</td>\n",
       "      <td>Advanced Models</td>\n",
       "      <td>Buildings</td>\n",
       "      <td>2016</td>\n",
       "      <td>5.0</td>\n",
       "      <td>4163.0</td>\n",
       "      <td>NaN</td>\n",
       "      <td>249.99</td>\n",
       "      <td>219.99</td>\n",
       "      <td>2323.0</td>\n",
       "      <td>2916.0</td>\n",
       "    </tr>\n",
       "    <tr>\n",
       "      <th>3</th>\n",
       "      <td>10254</td>\n",
       "      <td>Winter Holiday Train</td>\n",
       "      <td>https://images.brickset.com/sets/small/10254-1...</td>\n",
       "      <td>Advanced Models</td>\n",
       "      <td>Winter Village</td>\n",
       "      <td>2016</td>\n",
       "      <td>4.6</td>\n",
       "      <td>734.0</td>\n",
       "      <td>5.0</td>\n",
       "      <td>99.99</td>\n",
       "      <td>89.99</td>\n",
       "      <td>4955.0</td>\n",
       "      <td>1900.0</td>\n",
       "    </tr>\n",
       "    <tr>\n",
       "      <th>4</th>\n",
       "      <td>10654</td>\n",
       "      <td>XL Creative Brick Box</td>\n",
       "      <td>https://images.brickset.com/sets/small/10654-1...</td>\n",
       "      <td>Classic</td>\n",
       "      <td>Basic Set</td>\n",
       "      <td>2016</td>\n",
       "      <td>NaN</td>\n",
       "      <td>1600.0</td>\n",
       "      <td>NaN</td>\n",
       "      <td>NaN</td>\n",
       "      <td>59.99</td>\n",
       "      <td>279.0</td>\n",
       "      <td>170.0</td>\n",
       "    </tr>\n",
       "  </tbody>\n",
       "</table>\n",
       "</div>"
      ],
      "text/plain": [
       "  number                   name  \\\n",
       "0  10251             Brick Bank   \n",
       "1  10252      Volkswagen Beetle   \n",
       "2  10253                Big Ben   \n",
       "3  10254   Winter Holiday Train   \n",
       "4  10654  XL Creative Brick Box   \n",
       "\n",
       "                                               image            theme  \\\n",
       "0  https://images.brickset.com/sets/small/10251-1...  Advanced Models   \n",
       "1  https://images.brickset.com/sets/small/10252-1...  Advanced Models   \n",
       "2  https://images.brickset.com/sets/small/10253-1...  Advanced Models   \n",
       "3  https://images.brickset.com/sets/small/10254-1...  Advanced Models   \n",
       "4  https://images.brickset.com/sets/small/10654-1...          Classic   \n",
       "\n",
       "            subtheme  year  rating  pieces  minifigs  us_price  eu_price  \\\n",
       "0  Modular Buildings  2016     4.6  2380.0       5.0    169.99    149.99   \n",
       "1           Vehicles  2016     5.0  1167.0       NaN     99.99     89.99   \n",
       "2          Buildings  2016     5.0  4163.0       NaN    249.99    219.99   \n",
       "3     Winter Village  2016     4.6   734.0       5.0     99.99     89.99   \n",
       "4          Basic Set  2016     NaN  1600.0       NaN       NaN     59.99   \n",
       "\n",
       "    owner  want_it  \n",
       "0  7695.0   4949.0  \n",
       "1  4185.0   2502.0  \n",
       "2  2323.0   2916.0  \n",
       "3  4955.0   1900.0  \n",
       "4   279.0    170.0  "
      ]
     },
     "execution_count": 4,
     "metadata": {},
     "output_type": "execute_result"
    }
   ],
   "source": [
    "lego_df = pd.read_csv(CSV_URL, dtype={'number': 'object'})\n",
    "lego_df.head()"
   ]
  },
  {
   "cell_type": "markdown",
   "metadata": {},
   "source": [
    "### List 5.11"
   ]
  },
  {
   "cell_type": "code",
   "execution_count": 5,
   "metadata": {},
   "outputs": [
    {
     "data": {
      "text/html": [
       "<div>\n",
       "<style>\n",
       "    .dataframe thead tr:only-child th {\n",
       "        text-align: right;\n",
       "    }\n",
       "\n",
       "    .dataframe thead th {\n",
       "        text-align: left;\n",
       "    }\n",
       "\n",
       "    .dataframe tbody tr th {\n",
       "        vertical-align: top;\n",
       "    }\n",
       "</style>\n",
       "<table border=\"1\" class=\"dataframe\">\n",
       "  <thead>\n",
       "    <tr style=\"text-align: right;\">\n",
       "      <th></th>\n",
       "      <th>number</th>\n",
       "      <th>name</th>\n",
       "      <th>image</th>\n",
       "      <th>theme</th>\n",
       "      <th>subtheme</th>\n",
       "      <th>year</th>\n",
       "      <th>rating</th>\n",
       "      <th>pieces</th>\n",
       "      <th>minifigs</th>\n",
       "      <th>us_price</th>\n",
       "      <th>eu_price</th>\n",
       "      <th>owner</th>\n",
       "      <th>want_it</th>\n",
       "    </tr>\n",
       "  </thead>\n",
       "  <tbody>\n",
       "    <tr>\n",
       "      <th>823</th>\n",
       "      <td>NaN</td>\n",
       "      <td>Cogsworth</td>\n",
       "      <td>https://images.brickset.com/sets/small/TRUCOGS...</td>\n",
       "      <td>Disney</td>\n",
       "      <td>Beauty and the Beast</td>\n",
       "      <td>2016</td>\n",
       "      <td>4.0</td>\n",
       "      <td>47.0</td>\n",
       "      <td>NaN</td>\n",
       "      <td>NaN</td>\n",
       "      <td>NaN</td>\n",
       "      <td>174.0</td>\n",
       "      <td>151.0</td>\n",
       "    </tr>\n",
       "    <tr>\n",
       "      <th>824</th>\n",
       "      <td>NaN</td>\n",
       "      <td>Millennium Falcon</td>\n",
       "      <td>https://images.brickset.com/sets/small/TRUFALC...</td>\n",
       "      <td>Star Wars</td>\n",
       "      <td>Promotional</td>\n",
       "      <td>2016</td>\n",
       "      <td>4.0</td>\n",
       "      <td>44.0</td>\n",
       "      <td>NaN</td>\n",
       "      <td>NaN</td>\n",
       "      <td>NaN</td>\n",
       "      <td>443.0</td>\n",
       "      <td>274.0</td>\n",
       "    </tr>\n",
       "    <tr>\n",
       "      <th>825</th>\n",
       "      <td>NaN</td>\n",
       "      <td>Lumiere</td>\n",
       "      <td>https://images.brickset.com/sets/small/TRULUMI...</td>\n",
       "      <td>Disney</td>\n",
       "      <td>Beauty and the Beast</td>\n",
       "      <td>2016</td>\n",
       "      <td>5.0</td>\n",
       "      <td>23.0</td>\n",
       "      <td>NaN</td>\n",
       "      <td>NaN</td>\n",
       "      <td>NaN</td>\n",
       "      <td>191.0</td>\n",
       "      <td>151.0</td>\n",
       "    </tr>\n",
       "    <tr>\n",
       "      <th>826</th>\n",
       "      <td>NaN</td>\n",
       "      <td>Nexo Knights Shield Dock</td>\n",
       "      <td>https://images.brickset.com/sets/small/TRUNEXO...</td>\n",
       "      <td>Nexo Knights</td>\n",
       "      <td>Miscellaneous</td>\n",
       "      <td>2016</td>\n",
       "      <td>4.0</td>\n",
       "      <td>41.0</td>\n",
       "      <td>NaN</td>\n",
       "      <td>NaN</td>\n",
       "      <td>NaN</td>\n",
       "      <td>244.0</td>\n",
       "      <td>207.0</td>\n",
       "    </tr>\n",
       "    <tr>\n",
       "      <th>827</th>\n",
       "      <td>NaN</td>\n",
       "      <td>Winner's Podium</td>\n",
       "      <td>https://images.brickset.com/sets/small/TRUPODI...</td>\n",
       "      <td>Miscellaneous</td>\n",
       "      <td>NaN</td>\n",
       "      <td>2016</td>\n",
       "      <td>NaN</td>\n",
       "      <td>NaN</td>\n",
       "      <td>NaN</td>\n",
       "      <td>NaN</td>\n",
       "      <td>NaN</td>\n",
       "      <td>82.0</td>\n",
       "      <td>60.0</td>\n",
       "    </tr>\n",
       "  </tbody>\n",
       "</table>\n",
       "</div>"
      ],
      "text/plain": [
       "    number                       name  \\\n",
       "823    NaN                  Cogsworth   \n",
       "824    NaN          Millennium Falcon   \n",
       "825    NaN                    Lumiere   \n",
       "826    NaN  Nexo Knights Shield Dock    \n",
       "827    NaN            Winner's Podium   \n",
       "\n",
       "                                                 image          theme  \\\n",
       "823  https://images.brickset.com/sets/small/TRUCOGS...         Disney   \n",
       "824  https://images.brickset.com/sets/small/TRUFALC...      Star Wars   \n",
       "825  https://images.brickset.com/sets/small/TRULUMI...         Disney   \n",
       "826  https://images.brickset.com/sets/small/TRUNEXO...   Nexo Knights   \n",
       "827  https://images.brickset.com/sets/small/TRUPODI...  Miscellaneous   \n",
       "\n",
       "                 subtheme  year  rating  pieces  minifigs  us_price  eu_price  \\\n",
       "823  Beauty and the Beast  2016     4.0    47.0       NaN       NaN       NaN   \n",
       "824           Promotional  2016     4.0    44.0       NaN       NaN       NaN   \n",
       "825  Beauty and the Beast  2016     5.0    23.0       NaN       NaN       NaN   \n",
       "826         Miscellaneous  2016     4.0    41.0       NaN       NaN       NaN   \n",
       "827                   NaN  2016     NaN     NaN       NaN       NaN       NaN   \n",
       "\n",
       "     owner  want_it  \n",
       "823  174.0    151.0  \n",
       "824  443.0    274.0  \n",
       "825  191.0    151.0  \n",
       "826  244.0    207.0  \n",
       "827   82.0     60.0  "
      ]
     },
     "execution_count": 5,
     "metadata": {},
     "output_type": "execute_result"
    }
   ],
   "source": [
    "lego_df.tail()"
   ]
  },
  {
   "cell_type": "markdown",
   "metadata": {},
   "source": [
    "### List 5.12"
   ]
  },
  {
   "cell_type": "code",
   "execution_count": 6,
   "metadata": {},
   "outputs": [
    {
     "name": "stdout",
     "output_type": "stream",
     "text": [
      "全体の行数:  828\n"
     ]
    },
    {
     "data": {
      "text/plain": [
       "number      104\n",
       "name          0\n",
       "image        20\n",
       "theme         0\n",
       "subtheme    116\n",
       "year          0\n",
       "rating      509\n",
       "pieces      256\n",
       "minifigs    429\n",
       "us_price    304\n",
       "eu_price    356\n",
       "owner        13\n",
       "want_it      13\n",
       "dtype: int64"
      ]
     },
     "execution_count": 6,
     "metadata": {},
     "output_type": "execute_result"
    }
   ],
   "source": [
    "print('全体の行数: ', len(lego_df))\n",
    "lego_df.isnull().sum()"
   ]
  },
  {
   "cell_type": "markdown",
   "metadata": {},
   "source": [
    "### List 5.13"
   ]
  },
  {
   "cell_type": "code",
   "execution_count": 7,
   "metadata": {},
   "outputs": [
    {
     "name": "stdout",
     "output_type": "stream",
     "text": [
      "dropna 実行前:  828\n",
      "dropna 実行後:  438\n"
     ]
    },
    {
     "data": {
      "text/plain": [
       "number        0\n",
       "name          0\n",
       "image         0\n",
       "theme         0\n",
       "subtheme     74\n",
       "year          0\n",
       "rating      177\n",
       "pieces        0\n",
       "minifigs    118\n",
       "us_price      0\n",
       "eu_price     63\n",
       "owner         0\n",
       "want_it       0\n",
       "dtype: int64"
      ]
     },
     "execution_count": 7,
     "metadata": {},
     "output_type": "execute_result"
    }
   ],
   "source": [
    "print('dropna 実行前: ', len(lego_df))\n",
    "\n",
    "lego_df.dropna(subset=['number', 'us_price', 'pieces'], inplace=True)\n",
    "\n",
    "print('dropna 実行後: ', len(lego_df))\n",
    "\n",
    "lego_df.isnull().sum()"
   ]
  },
  {
   "cell_type": "markdown",
   "metadata": {},
   "source": [
    "### List 5.14"
   ]
  },
  {
   "cell_type": "code",
   "execution_count": 8,
   "metadata": {},
   "outputs": [
    {
     "data": {
      "text/html": [
       "<div>\n",
       "<style>\n",
       "    .dataframe thead tr:only-child th {\n",
       "        text-align: right;\n",
       "    }\n",
       "\n",
       "    .dataframe thead th {\n",
       "        text-align: left;\n",
       "    }\n",
       "\n",
       "    .dataframe tbody tr th {\n",
       "        vertical-align: top;\n",
       "    }\n",
       "</style>\n",
       "<table border=\"1\" class=\"dataframe\">\n",
       "  <thead>\n",
       "    <tr style=\"text-align: right;\">\n",
       "      <th></th>\n",
       "      <th>name</th>\n",
       "      <th>image</th>\n",
       "      <th>theme</th>\n",
       "      <th>subtheme</th>\n",
       "      <th>year</th>\n",
       "      <th>rating</th>\n",
       "      <th>pieces</th>\n",
       "      <th>minifigs</th>\n",
       "      <th>us_price</th>\n",
       "      <th>eu_price</th>\n",
       "      <th>owner</th>\n",
       "      <th>want_it</th>\n",
       "    </tr>\n",
       "    <tr>\n",
       "      <th>number</th>\n",
       "      <th></th>\n",
       "      <th></th>\n",
       "      <th></th>\n",
       "      <th></th>\n",
       "      <th></th>\n",
       "      <th></th>\n",
       "      <th></th>\n",
       "      <th></th>\n",
       "      <th></th>\n",
       "      <th></th>\n",
       "      <th></th>\n",
       "      <th></th>\n",
       "    </tr>\n",
       "  </thead>\n",
       "  <tbody>\n",
       "    <tr>\n",
       "      <th>10251</th>\n",
       "      <td>Brick Bank</td>\n",
       "      <td>https://images.brickset.com/sets/small/10251-1...</td>\n",
       "      <td>Advanced Models</td>\n",
       "      <td>Modular Buildings</td>\n",
       "      <td>2016</td>\n",
       "      <td>4.6</td>\n",
       "      <td>2380.0</td>\n",
       "      <td>5.0</td>\n",
       "      <td>169.99</td>\n",
       "      <td>149.99</td>\n",
       "      <td>7695.0</td>\n",
       "      <td>4949.0</td>\n",
       "    </tr>\n",
       "    <tr>\n",
       "      <th>10252</th>\n",
       "      <td>Volkswagen Beetle</td>\n",
       "      <td>https://images.brickset.com/sets/small/10252-1...</td>\n",
       "      <td>Advanced Models</td>\n",
       "      <td>Vehicles</td>\n",
       "      <td>2016</td>\n",
       "      <td>5.0</td>\n",
       "      <td>1167.0</td>\n",
       "      <td>NaN</td>\n",
       "      <td>99.99</td>\n",
       "      <td>89.99</td>\n",
       "      <td>4185.0</td>\n",
       "      <td>2502.0</td>\n",
       "    </tr>\n",
       "  </tbody>\n",
       "</table>\n",
       "</div>"
      ],
      "text/plain": [
       "                     name                                              image  \\\n",
       "number                                                                         \n",
       "10251          Brick Bank  https://images.brickset.com/sets/small/10251-1...   \n",
       "10252   Volkswagen Beetle  https://images.brickset.com/sets/small/10252-1...   \n",
       "\n",
       "                  theme           subtheme  year  rating  pieces  minifigs  \\\n",
       "number                                                                       \n",
       "10251   Advanced Models  Modular Buildings  2016     4.6  2380.0       5.0   \n",
       "10252   Advanced Models           Vehicles  2016     5.0  1167.0       NaN   \n",
       "\n",
       "        us_price  eu_price   owner  want_it  \n",
       "number                                       \n",
       "10251     169.99    149.99  7695.0   4949.0  \n",
       "10252      99.99     89.99  4185.0   2502.0  "
      ]
     },
     "execution_count": 8,
     "metadata": {},
     "output_type": "execute_result"
    }
   ],
   "source": [
    "lego_df.set_index('number', inplace=True)\n",
    "lego_df.head(2)"
   ]
  },
  {
   "cell_type": "markdown",
   "metadata": {},
   "source": [
    "### List 5.15"
   ]
  },
  {
   "cell_type": "code",
   "execution_count": 9,
   "metadata": {},
   "outputs": [
    {
     "data": {
      "text/html": [
       "<div>\n",
       "<style>\n",
       "    .dataframe thead tr:only-child th {\n",
       "        text-align: right;\n",
       "    }\n",
       "\n",
       "    .dataframe thead th {\n",
       "        text-align: left;\n",
       "    }\n",
       "\n",
       "    .dataframe tbody tr th {\n",
       "        vertical-align: top;\n",
       "    }\n",
       "</style>\n",
       "<table border=\"1\" class=\"dataframe\">\n",
       "  <thead>\n",
       "    <tr style=\"text-align: right;\">\n",
       "      <th></th>\n",
       "      <th>theme</th>\n",
       "      <th>name</th>\n",
       "      <th>us_price</th>\n",
       "    </tr>\n",
       "    <tr>\n",
       "      <th>number</th>\n",
       "      <th></th>\n",
       "      <th></th>\n",
       "      <th></th>\n",
       "    </tr>\n",
       "  </thead>\n",
       "  <tbody>\n",
       "    <tr>\n",
       "      <th>10251</th>\n",
       "      <td>Advanced Models</td>\n",
       "      <td>Brick Bank</td>\n",
       "      <td>169.99</td>\n",
       "    </tr>\n",
       "    <tr>\n",
       "      <th>10252</th>\n",
       "      <td>Advanced Models</td>\n",
       "      <td>Volkswagen Beetle</td>\n",
       "      <td>99.99</td>\n",
       "    </tr>\n",
       "    <tr>\n",
       "      <th>10253</th>\n",
       "      <td>Advanced Models</td>\n",
       "      <td>Big Ben</td>\n",
       "      <td>249.99</td>\n",
       "    </tr>\n",
       "    <tr>\n",
       "      <th>10254</th>\n",
       "      <td>Advanced Models</td>\n",
       "      <td>Winter Holiday Train</td>\n",
       "      <td>99.99</td>\n",
       "    </tr>\n",
       "    <tr>\n",
       "      <th>10702</th>\n",
       "      <td>Classic</td>\n",
       "      <td>Creative Building Set</td>\n",
       "      <td>29.99</td>\n",
       "    </tr>\n",
       "  </tbody>\n",
       "</table>\n",
       "</div>"
      ],
      "text/plain": [
       "                  theme                   name  us_price\n",
       "number                                                  \n",
       "10251   Advanced Models             Brick Bank    169.99\n",
       "10252   Advanced Models      Volkswagen Beetle     99.99\n",
       "10253   Advanced Models                Big Ben    249.99\n",
       "10254   Advanced Models   Winter Holiday Train     99.99\n",
       "10702           Classic  Creative Building Set     29.99"
      ]
     },
     "execution_count": 9,
     "metadata": {},
     "output_type": "execute_result"
    }
   ],
   "source": [
    "lego_df[['theme', 'name', 'us_price']].head()"
   ]
  },
  {
   "cell_type": "markdown",
   "metadata": {},
   "source": [
    "### List 5.17"
   ]
  },
  {
   "cell_type": "code",
   "execution_count": 10,
   "metadata": {},
   "outputs": [
    {
     "data": {
      "text/html": [
       "<div>\n",
       "<style>\n",
       "    .dataframe thead tr:only-child th {\n",
       "        text-align: right;\n",
       "    }\n",
       "\n",
       "    .dataframe thead th {\n",
       "        text-align: left;\n",
       "    }\n",
       "\n",
       "    .dataframe tbody tr th {\n",
       "        vertical-align: top;\n",
       "    }\n",
       "</style>\n",
       "<table border=\"1\" class=\"dataframe\">\n",
       "  <thead>\n",
       "    <tr style=\"text-align: right;\">\n",
       "      <th></th>\n",
       "      <th>name</th>\n",
       "      <th>image</th>\n",
       "      <th>theme</th>\n",
       "    </tr>\n",
       "    <tr>\n",
       "      <th>number</th>\n",
       "      <th></th>\n",
       "      <th></th>\n",
       "      <th></th>\n",
       "    </tr>\n",
       "  </thead>\n",
       "  <tbody>\n",
       "    <tr>\n",
       "      <th>10251</th>\n",
       "      <td>Brick Bank</td>\n",
       "      <td>https://images.brickset.com/sets/small/10251-1...</td>\n",
       "      <td>Advanced Models</td>\n",
       "    </tr>\n",
       "    <tr>\n",
       "      <th>10252</th>\n",
       "      <td>Volkswagen Beetle</td>\n",
       "      <td>https://images.brickset.com/sets/small/10252-1...</td>\n",
       "      <td>Advanced Models</td>\n",
       "    </tr>\n",
       "    <tr>\n",
       "      <th>10253</th>\n",
       "      <td>Big Ben</td>\n",
       "      <td>https://images.brickset.com/sets/small/10253-1...</td>\n",
       "      <td>Advanced Models</td>\n",
       "    </tr>\n",
       "    <tr>\n",
       "      <th>10254</th>\n",
       "      <td>Winter Holiday Train</td>\n",
       "      <td>https://images.brickset.com/sets/small/10254-1...</td>\n",
       "      <td>Advanced Models</td>\n",
       "    </tr>\n",
       "  </tbody>\n",
       "</table>\n",
       "</div>"
      ],
      "text/plain": [
       "                        name  \\\n",
       "number                         \n",
       "10251             Brick Bank   \n",
       "10252      Volkswagen Beetle   \n",
       "10253                Big Ben   \n",
       "10254   Winter Holiday Train   \n",
       "\n",
       "                                                    image            theme  \n",
       "number                                                                      \n",
       "10251   https://images.brickset.com/sets/small/10251-1...  Advanced Models  \n",
       "10252   https://images.brickset.com/sets/small/10252-1...  Advanced Models  \n",
       "10253   https://images.brickset.com/sets/small/10253-1...  Advanced Models  \n",
       "10254   https://images.brickset.com/sets/small/10254-1...  Advanced Models  "
      ]
     },
     "execution_count": 10,
     "metadata": {},
     "output_type": "execute_result"
    }
   ],
   "source": [
    "lego_df.iloc[0:4, 0:3]"
   ]
  },
  {
   "cell_type": "markdown",
   "metadata": {},
   "source": [
    "### List 5.18"
   ]
  },
  {
   "cell_type": "code",
   "execution_count": 11,
   "metadata": {},
   "outputs": [
    {
     "data": {
      "text/html": [
       "<div>\n",
       "<style>\n",
       "    .dataframe thead tr:only-child th {\n",
       "        text-align: right;\n",
       "    }\n",
       "\n",
       "    .dataframe thead th {\n",
       "        text-align: left;\n",
       "    }\n",
       "\n",
       "    .dataframe tbody tr th {\n",
       "        vertical-align: top;\n",
       "    }\n",
       "</style>\n",
       "<table border=\"1\" class=\"dataframe\">\n",
       "  <thead>\n",
       "    <tr style=\"text-align: right;\">\n",
       "      <th></th>\n",
       "      <th>year</th>\n",
       "      <th>us_price</th>\n",
       "    </tr>\n",
       "    <tr>\n",
       "      <th>number</th>\n",
       "      <th></th>\n",
       "      <th></th>\n",
       "    </tr>\n",
       "  </thead>\n",
       "  <tbody>\n",
       "    <tr>\n",
       "      <th>10253</th>\n",
       "      <td>2016</td>\n",
       "      <td>249.99</td>\n",
       "    </tr>\n",
       "    <tr>\n",
       "      <th>10254</th>\n",
       "      <td>2016</td>\n",
       "      <td>99.99</td>\n",
       "    </tr>\n",
       "  </tbody>\n",
       "</table>\n",
       "</div>"
      ],
      "text/plain": [
       "        year  us_price\n",
       "number                \n",
       "10253   2016    249.99\n",
       "10254   2016     99.99"
      ]
     },
     "execution_count": 11,
     "metadata": {},
     "output_type": "execute_result"
    }
   ],
   "source": [
    "lego_df.loc[['10253', '10254'], ['year', 'us_price']]"
   ]
  },
  {
   "cell_type": "markdown",
   "metadata": {},
   "source": [
    "### List 5.19\n"
   ]
  },
  {
   "cell_type": "code",
   "execution_count": 12,
   "metadata": {},
   "outputs": [
    {
     "data": {
      "text/html": [
       "<div>\n",
       "<style>\n",
       "    .dataframe thead tr:only-child th {\n",
       "        text-align: right;\n",
       "    }\n",
       "\n",
       "    .dataframe thead th {\n",
       "        text-align: left;\n",
       "    }\n",
       "\n",
       "    .dataframe tbody tr th {\n",
       "        vertical-align: top;\n",
       "    }\n",
       "</style>\n",
       "<table border=\"1\" class=\"dataframe\">\n",
       "  <thead>\n",
       "    <tr style=\"text-align: right;\">\n",
       "      <th></th>\n",
       "      <th>name</th>\n",
       "      <th>us_price</th>\n",
       "    </tr>\n",
       "    <tr>\n",
       "      <th>number</th>\n",
       "      <th></th>\n",
       "      <th></th>\n",
       "    </tr>\n",
       "  </thead>\n",
       "  <tbody>\n",
       "    <tr>\n",
       "      <th>71040</th>\n",
       "      <td>Disney Castle</td>\n",
       "      <td>349.99</td>\n",
       "    </tr>\n",
       "    <tr>\n",
       "      <th>75159</th>\n",
       "      <td>Death Star</td>\n",
       "      <td>499.99</td>\n",
       "    </tr>\n",
       "    <tr>\n",
       "      <th>75827</th>\n",
       "      <td>Firehouse Headquarters</td>\n",
       "      <td>349.99</td>\n",
       "    </tr>\n",
       "  </tbody>\n",
       "</table>\n",
       "</div>"
      ],
      "text/plain": [
       "                           name  us_price\n",
       "number                                   \n",
       "71040             Disney Castle    349.99\n",
       "75159                Death Star    499.99\n",
       "75827   Firehouse Headquarters     349.99"
      ]
     },
     "execution_count": 12,
     "metadata": {},
     "output_type": "execute_result"
    }
   ],
   "source": [
    "lego_df[['name', 'us_price']][lego_df['us_price'] > 300]"
   ]
  },
  {
   "cell_type": "markdown",
   "metadata": {},
   "source": [
    "### List 5.21"
   ]
  },
  {
   "cell_type": "code",
   "execution_count": 13,
   "metadata": {},
   "outputs": [
    {
     "data": {
      "text/html": [
       "<div>\n",
       "<style>\n",
       "    .dataframe thead tr:only-child th {\n",
       "        text-align: right;\n",
       "    }\n",
       "\n",
       "    .dataframe thead th {\n",
       "        text-align: left;\n",
       "    }\n",
       "\n",
       "    .dataframe tbody tr th {\n",
       "        vertical-align: top;\n",
       "    }\n",
       "</style>\n",
       "<table border=\"1\" class=\"dataframe\">\n",
       "  <thead>\n",
       "    <tr style=\"text-align: right;\">\n",
       "      <th></th>\n",
       "      <th>year</th>\n",
       "      <th>rating</th>\n",
       "      <th>pieces</th>\n",
       "      <th>minifigs</th>\n",
       "      <th>us_price</th>\n",
       "      <th>eu_price</th>\n",
       "      <th>owner</th>\n",
       "      <th>want_it</th>\n",
       "    </tr>\n",
       "  </thead>\n",
       "  <tbody>\n",
       "    <tr>\n",
       "      <th>count</th>\n",
       "      <td>438.0</td>\n",
       "      <td>261.000000</td>\n",
       "      <td>438.000000</td>\n",
       "      <td>320.000000</td>\n",
       "      <td>438.000000</td>\n",
       "      <td>375.000000</td>\n",
       "      <td>438.000000</td>\n",
       "      <td>438.000000</td>\n",
       "    </tr>\n",
       "    <tr>\n",
       "      <th>mean</th>\n",
       "      <td>2016.0</td>\n",
       "      <td>4.343678</td>\n",
       "      <td>309.408676</td>\n",
       "      <td>2.778125</td>\n",
       "      <td>34.856438</td>\n",
       "      <td>36.534267</td>\n",
       "      <td>2025.689498</td>\n",
       "      <td>723.933790</td>\n",
       "    </tr>\n",
       "    <tr>\n",
       "      <th>std</th>\n",
       "      <td>0.0</td>\n",
       "      <td>0.678862</td>\n",
       "      <td>549.443492</td>\n",
       "      <td>2.630450</td>\n",
       "      <td>51.375083</td>\n",
       "      <td>49.493712</td>\n",
       "      <td>1579.850469</td>\n",
       "      <td>609.538204</td>\n",
       "    </tr>\n",
       "    <tr>\n",
       "      <th>min</th>\n",
       "      <td>2016.0</td>\n",
       "      <td>1.700000</td>\n",
       "      <td>3.000000</td>\n",
       "      <td>1.000000</td>\n",
       "      <td>3.490000</td>\n",
       "      <td>1.990000</td>\n",
       "      <td>26.000000</td>\n",
       "      <td>21.000000</td>\n",
       "    </tr>\n",
       "    <tr>\n",
       "      <th>25%</th>\n",
       "      <td>2016.0</td>\n",
       "      <td>4.000000</td>\n",
       "      <td>63.000000</td>\n",
       "      <td>1.000000</td>\n",
       "      <td>9.990000</td>\n",
       "      <td>9.990000</td>\n",
       "      <td>833.500000</td>\n",
       "      <td>333.250000</td>\n",
       "    </tr>\n",
       "    <tr>\n",
       "      <th>50%</th>\n",
       "      <td>2016.0</td>\n",
       "      <td>4.500000</td>\n",
       "      <td>114.000000</td>\n",
       "      <td>2.000000</td>\n",
       "      <td>19.990000</td>\n",
       "      <td>19.990000</td>\n",
       "      <td>1602.000000</td>\n",
       "      <td>555.500000</td>\n",
       "    </tr>\n",
       "    <tr>\n",
       "      <th>75%</th>\n",
       "      <td>2016.0</td>\n",
       "      <td>5.000000</td>\n",
       "      <td>344.500000</td>\n",
       "      <td>4.000000</td>\n",
       "      <td>39.990000</td>\n",
       "      <td>39.990000</td>\n",
       "      <td>2954.250000</td>\n",
       "      <td>941.250000</td>\n",
       "    </tr>\n",
       "    <tr>\n",
       "      <th>max</th>\n",
       "      <td>2016.0</td>\n",
       "      <td>5.000000</td>\n",
       "      <td>4634.000000</td>\n",
       "      <td>27.000000</td>\n",
       "      <td>499.990000</td>\n",
       "      <td>449.990000</td>\n",
       "      <td>8300.000000</td>\n",
       "      <td>4949.000000</td>\n",
       "    </tr>\n",
       "  </tbody>\n",
       "</table>\n",
       "</div>"
      ],
      "text/plain": [
       "         year      rating       pieces    minifigs    us_price    eu_price  \\\n",
       "count   438.0  261.000000   438.000000  320.000000  438.000000  375.000000   \n",
       "mean   2016.0    4.343678   309.408676    2.778125   34.856438   36.534267   \n",
       "std       0.0    0.678862   549.443492    2.630450   51.375083   49.493712   \n",
       "min    2016.0    1.700000     3.000000    1.000000    3.490000    1.990000   \n",
       "25%    2016.0    4.000000    63.000000    1.000000    9.990000    9.990000   \n",
       "50%    2016.0    4.500000   114.000000    2.000000   19.990000   19.990000   \n",
       "75%    2016.0    5.000000   344.500000    4.000000   39.990000   39.990000   \n",
       "max    2016.0    5.000000  4634.000000   27.000000  499.990000  449.990000   \n",
       "\n",
       "             owner      want_it  \n",
       "count   438.000000   438.000000  \n",
       "mean   2025.689498   723.933790  \n",
       "std    1579.850469   609.538204  \n",
       "min      26.000000    21.000000  \n",
       "25%     833.500000   333.250000  \n",
       "50%    1602.000000   555.500000  \n",
       "75%    2954.250000   941.250000  \n",
       "max    8300.000000  4949.000000  "
      ]
     },
     "execution_count": 13,
     "metadata": {},
     "output_type": "execute_result"
    }
   ],
   "source": [
    "lego_df.describe()"
   ]
  },
  {
   "cell_type": "markdown",
   "metadata": {},
   "source": [
    "### List 5.22"
   ]
  },
  {
   "cell_type": "code",
   "execution_count": 14,
   "metadata": {},
   "outputs": [
    {
     "data": {
      "text/html": [
       "<div>\n",
       "<style>\n",
       "    .dataframe thead tr:only-child th {\n",
       "        text-align: right;\n",
       "    }\n",
       "\n",
       "    .dataframe thead th {\n",
       "        text-align: left;\n",
       "    }\n",
       "\n",
       "    .dataframe tbody tr th {\n",
       "        vertical-align: top;\n",
       "    }\n",
       "</style>\n",
       "<table border=\"1\" class=\"dataframe\">\n",
       "  <thead>\n",
       "    <tr style=\"text-align: right;\">\n",
       "      <th></th>\n",
       "      <th>year</th>\n",
       "      <th>rating</th>\n",
       "      <th>pieces</th>\n",
       "      <th>minifigs</th>\n",
       "      <th>us_price</th>\n",
       "      <th>eu_price</th>\n",
       "      <th>owner</th>\n",
       "      <th>want_it</th>\n",
       "    </tr>\n",
       "  </thead>\n",
       "  <tbody>\n",
       "    <tr>\n",
       "      <th>count</th>\n",
       "      <td>438.0</td>\n",
       "      <td>261.0</td>\n",
       "      <td>438.0</td>\n",
       "      <td>320.0</td>\n",
       "      <td>438.0</td>\n",
       "      <td>375.0</td>\n",
       "      <td>438.0</td>\n",
       "      <td>438.0</td>\n",
       "    </tr>\n",
       "    <tr>\n",
       "      <th>mean</th>\n",
       "      <td>2016.0</td>\n",
       "      <td>4.3</td>\n",
       "      <td>309.4</td>\n",
       "      <td>2.8</td>\n",
       "      <td>34.9</td>\n",
       "      <td>36.5</td>\n",
       "      <td>2025.7</td>\n",
       "      <td>723.9</td>\n",
       "    </tr>\n",
       "    <tr>\n",
       "      <th>std</th>\n",
       "      <td>0.0</td>\n",
       "      <td>0.7</td>\n",
       "      <td>549.4</td>\n",
       "      <td>2.6</td>\n",
       "      <td>51.4</td>\n",
       "      <td>49.5</td>\n",
       "      <td>1579.9</td>\n",
       "      <td>609.5</td>\n",
       "    </tr>\n",
       "    <tr>\n",
       "      <th>min</th>\n",
       "      <td>2016.0</td>\n",
       "      <td>1.7</td>\n",
       "      <td>3.0</td>\n",
       "      <td>1.0</td>\n",
       "      <td>3.5</td>\n",
       "      <td>2.0</td>\n",
       "      <td>26.0</td>\n",
       "      <td>21.0</td>\n",
       "    </tr>\n",
       "    <tr>\n",
       "      <th>25%</th>\n",
       "      <td>2016.0</td>\n",
       "      <td>4.0</td>\n",
       "      <td>63.0</td>\n",
       "      <td>1.0</td>\n",
       "      <td>10.0</td>\n",
       "      <td>10.0</td>\n",
       "      <td>833.5</td>\n",
       "      <td>333.2</td>\n",
       "    </tr>\n",
       "    <tr>\n",
       "      <th>50%</th>\n",
       "      <td>2016.0</td>\n",
       "      <td>4.5</td>\n",
       "      <td>114.0</td>\n",
       "      <td>2.0</td>\n",
       "      <td>20.0</td>\n",
       "      <td>20.0</td>\n",
       "      <td>1602.0</td>\n",
       "      <td>555.5</td>\n",
       "    </tr>\n",
       "    <tr>\n",
       "      <th>75%</th>\n",
       "      <td>2016.0</td>\n",
       "      <td>5.0</td>\n",
       "      <td>344.5</td>\n",
       "      <td>4.0</td>\n",
       "      <td>40.0</td>\n",
       "      <td>40.0</td>\n",
       "      <td>2954.2</td>\n",
       "      <td>941.2</td>\n",
       "    </tr>\n",
       "    <tr>\n",
       "      <th>max</th>\n",
       "      <td>2016.0</td>\n",
       "      <td>5.0</td>\n",
       "      <td>4634.0</td>\n",
       "      <td>27.0</td>\n",
       "      <td>500.0</td>\n",
       "      <td>450.0</td>\n",
       "      <td>8300.0</td>\n",
       "      <td>4949.0</td>\n",
       "    </tr>\n",
       "  </tbody>\n",
       "</table>\n",
       "</div>"
      ],
      "text/plain": [
       "         year  rating  pieces  minifigs  us_price  eu_price   owner  want_it\n",
       "count   438.0   261.0   438.0     320.0     438.0     375.0   438.0    438.0\n",
       "mean   2016.0     4.3   309.4       2.8      34.9      36.5  2025.7    723.9\n",
       "std       0.0     0.7   549.4       2.6      51.4      49.5  1579.9    609.5\n",
       "min    2016.0     1.7     3.0       1.0       3.5       2.0    26.0     21.0\n",
       "25%    2016.0     4.0    63.0       1.0      10.0      10.0   833.5    333.2\n",
       "50%    2016.0     4.5   114.0       2.0      20.0      20.0  1602.0    555.5\n",
       "75%    2016.0     5.0   344.5       4.0      40.0      40.0  2954.2    941.2\n",
       "max    2016.0     5.0  4634.0      27.0     500.0     450.0  8300.0   4949.0"
      ]
     },
     "execution_count": 14,
     "metadata": {},
     "output_type": "execute_result"
    }
   ],
   "source": [
    "lego_df.describe().round(1)"
   ]
  },
  {
   "cell_type": "markdown",
   "metadata": {},
   "source": [
    "### List 5.23"
   ]
  },
  {
   "cell_type": "code",
   "execution_count": 15,
   "metadata": {},
   "outputs": [
    {
     "data": {
      "text/html": [
       "<div>\n",
       "<style>\n",
       "    .dataframe thead tr:only-child th {\n",
       "        text-align: right;\n",
       "    }\n",
       "\n",
       "    .dataframe thead th {\n",
       "        text-align: left;\n",
       "    }\n",
       "\n",
       "    .dataframe tbody tr th {\n",
       "        vertical-align: top;\n",
       "    }\n",
       "</style>\n",
       "<table border=\"1\" class=\"dataframe\">\n",
       "  <thead>\n",
       "    <tr style=\"text-align: right;\">\n",
       "      <th></th>\n",
       "      <th>pieces</th>\n",
       "      <th>us_price</th>\n",
       "      <th>unit_price</th>\n",
       "    </tr>\n",
       "    <tr>\n",
       "      <th>number</th>\n",
       "      <th></th>\n",
       "      <th></th>\n",
       "      <th></th>\n",
       "    </tr>\n",
       "  </thead>\n",
       "  <tbody>\n",
       "    <tr>\n",
       "      <th>10251</th>\n",
       "      <td>2380.0</td>\n",
       "      <td>169.99</td>\n",
       "      <td>0.0714</td>\n",
       "    </tr>\n",
       "    <tr>\n",
       "      <th>10252</th>\n",
       "      <td>1167.0</td>\n",
       "      <td>99.99</td>\n",
       "      <td>0.0857</td>\n",
       "    </tr>\n",
       "    <tr>\n",
       "      <th>10253</th>\n",
       "      <td>4163.0</td>\n",
       "      <td>249.99</td>\n",
       "      <td>0.0601</td>\n",
       "    </tr>\n",
       "  </tbody>\n",
       "</table>\n",
       "</div>"
      ],
      "text/plain": [
       "        pieces  us_price  unit_price\n",
       "number                              \n",
       "10251   2380.0    169.99      0.0714\n",
       "10252   1167.0     99.99      0.0857\n",
       "10253   4163.0    249.99      0.0601"
      ]
     },
     "execution_count": 15,
     "metadata": {},
     "output_type": "execute_result"
    }
   ],
   "source": [
    "lego_df['unit_price'] = round(lego_df['us_price'] / lego_df['pieces'], 4)\n",
    "lego_df[['pieces', 'us_price', 'unit_price']].head(3)"
   ]
  },
  {
   "cell_type": "markdown",
   "metadata": {},
   "source": [
    "## 5.4 実践 レゴデータ分析［データ可視化、分析編］"
   ]
  },
  {
   "cell_type": "markdown",
   "metadata": {},
   "source": [
    "### List 5.24"
   ]
  },
  {
   "cell_type": "code",
   "execution_count": 16,
   "metadata": {},
   "outputs": [
    {
     "data": {
      "text/plain": [
       "theme\n",
       "Collectable Minifigures    50\n",
       "Star Wars                  44\n",
       "City                       38\n",
       "Nexo Knights               30\n",
       "Duplo                      29\n",
       "Name: theme, dtype: int64"
      ]
     },
     "execution_count": 16,
     "metadata": {},
     "output_type": "execute_result"
    }
   ],
   "source": [
    "count_theme = lego_df.groupby('theme')['theme'].count()\n",
    "count_theme.sort_values(ascending=False).head()"
   ]
  },
  {
   "cell_type": "markdown",
   "metadata": {},
   "source": [
    "### List 5.25"
   ]
  },
  {
   "cell_type": "code",
   "execution_count": 17,
   "metadata": {},
   "outputs": [],
   "source": [
    "%matplotlib inline"
   ]
  },
  {
   "cell_type": "markdown",
   "metadata": {},
   "source": [
    "### List 5.26"
   ]
  },
  {
   "cell_type": "code",
   "execution_count": 18,
   "metadata": {},
   "outputs": [
    {
     "data": {
      "text/plain": [
       "<matplotlib.axes._subplots.AxesSubplot at 0x111e0e400>"
      ]
     },
     "execution_count": 18,
     "metadata": {},
     "output_type": "execute_result"
    },
    {
     "data": {
      "image/png": "[encoded data removed]",
      "text/plain": [
       "<matplotlib.figure.Figure at 0x111de1cc0>"
      ]
     },
     "metadata": {},
     "output_type": "display_data"
    }
   ],
   "source": [
    "theme_ranking10 = count_theme.sort_values(ascending=False).head(10)\n",
    "theme_ranking10.plot.bar(figsize=(10, 5))"
   ]
  },
  {
   "cell_type": "markdown",
   "metadata": {},
   "source": [
    "### List 5.27"
   ]
  },
  {
   "cell_type": "code",
   "execution_count": 19,
   "metadata": {},
   "outputs": [
    {
     "data": {
      "text/plain": [
       "<matplotlib.axes._subplots.AxesSubplot at 0x1151364a8>"
      ]
     },
     "execution_count": 19,
     "metadata": {},
     "output_type": "execute_result"
    },
    {
     "data": {
      "image/png": "[encoded data removed]",
      "text/plain": [
       "<matplotlib.figure.Figure at 0x115102d68>"
      ]
     },
     "metadata": {},
     "output_type": "display_data"
    }
   ],
   "source": [
    "lego_df['us_price'].plot.hist(bins=20, grid=True, figsize=(8, 5))"
   ]
  },
  {
   "cell_type": "markdown",
   "metadata": {},
   "source": [
    "### List 5.28"
   ]
  },
  {
   "cell_type": "code",
   "execution_count": 20,
   "metadata": {},
   "outputs": [
    {
     "data": {
      "text/plain": [
       "<matplotlib.axes._subplots.AxesSubplot at 0x1151c2240>"
      ]
     },
     "execution_count": 20,
     "metadata": {},
     "output_type": "execute_result"
    },
    {
     "data": {
      "image/png": "[encoded data removed]",
      "text/plain": [
       "<matplotlib.figure.Figure at 0x115331160>"
      ]
     },
     "metadata": {},
     "output_type": "display_data"
    }
   ],
   "source": [
    "lego_df.plot.scatter(x='pieces', y='us_price', grid=True, figsize=(5, 5))"
   ]
  },
  {
   "cell_type": "markdown",
   "metadata": {},
   "source": [
    "### List 5.29"
   ]
  },
  {
   "cell_type": "code",
   "execution_count": 21,
   "metadata": {},
   "outputs": [
    {
     "data": {
      "text/plain": [
       "<matplotlib.axes._subplots.AxesSubplot at 0x1151aad30>"
      ]
     },
     "execution_count": 21,
     "metadata": {},
     "output_type": "execute_result"
    },
    {
     "data": {
      "image/png": "[encoded data removed]",
      "text/plain": [
       "<matplotlib.figure.Figure at 0x11536e4a8>"
      ]
     },
     "metadata": {},
     "output_type": "display_data"
    }
   ],
   "source": [
    "# 右記のコードは誤り: lego_df.plot.scatter(x='pieces', y='owner', grid=True, figsize=(5, 5))\n",
    "lego_df.plot.scatter(x='us_price', y='owner', grid=True, figsize=(5, 5))"
   ]
  },
  {
   "cell_type": "markdown",
   "metadata": {},
   "source": [
    "### List 5.30"
   ]
  },
  {
   "cell_type": "code",
   "execution_count": 22,
   "metadata": {},
   "outputs": [
    {
     "data": {
      "text/plain": [
       "array([[<matplotlib.axes._subplots.AxesSubplot object at 0x1153cb128>,\n",
       "        <matplotlib.axes._subplots.AxesSubplot object at 0x115523a58>,\n",
       "        <matplotlib.axes._subplots.AxesSubplot object at 0x1155599e8>,\n",
       "        <matplotlib.axes._subplots.AxesSubplot object at 0x115594a58>],\n",
       "       [<matplotlib.axes._subplots.AxesSubplot object at 0x1155cea58>,\n",
       "        <matplotlib.axes._subplots.AxesSubplot object at 0x1155cea90>,\n",
       "        <matplotlib.axes._subplots.AxesSubplot object at 0x11563d0b8>,\n",
       "        <matplotlib.axes._subplots.AxesSubplot object at 0x1156760b8>],\n",
       "       [<matplotlib.axes._subplots.AxesSubplot object at 0x1156b10b8>,\n",
       "        <matplotlib.axes._subplots.AxesSubplot object at 0x1156ea0b8>,\n",
       "        <matplotlib.axes._subplots.AxesSubplot object at 0x115714a58>,\n",
       "        <matplotlib.axes._subplots.AxesSubplot object at 0x11574df28>],\n",
       "       [<matplotlib.axes._subplots.AxesSubplot object at 0x1157904a8>,\n",
       "        <matplotlib.axes._subplots.AxesSubplot object at 0x1157c99e8>,\n",
       "        <matplotlib.axes._subplots.AxesSubplot object at 0x1157f57b8>,\n",
       "        <matplotlib.axes._subplots.AxesSubplot object at 0x11582d828>]], dtype=object)"
      ]
     },
     "execution_count": 22,
     "metadata": {},
     "output_type": "execute_result"
    },
    {
     "data": {
      "image/png": "[encoded data removed]",
      "text/plain": [
       "<matplotlib.figure.Figure at 0x11546efd0>"
      ]
     },
     "metadata": {},
     "output_type": "display_data"
    }
   ],
   "source": [
    "from pandas.plotting import scatter_matrix\n",
    "scatter_matrix(lego_df[['pieces', 'us_price', 'owner', 'want_it']], figsize=(8, 8))"
   ]
  },
  {
   "cell_type": "markdown",
   "metadata": {},
   "source": [
    "### List 5.31"
   ]
  },
  {
   "cell_type": "code",
   "execution_count": 23,
   "metadata": {},
   "outputs": [
    {
     "data": {
      "text/html": [
       "<div>\n",
       "<style>\n",
       "    .dataframe thead tr:only-child th {\n",
       "        text-align: right;\n",
       "    }\n",
       "\n",
       "    .dataframe thead th {\n",
       "        text-align: left;\n",
       "    }\n",
       "\n",
       "    .dataframe tbody tr th {\n",
       "        vertical-align: top;\n",
       "    }\n",
       "</style>\n",
       "<table border=\"1\" class=\"dataframe\">\n",
       "  <thead>\n",
       "    <tr style=\"text-align: right;\">\n",
       "      <th></th>\n",
       "      <th>minifigs</th>\n",
       "      <th>pieces</th>\n",
       "      <th>us_price</th>\n",
       "      <th>owner</th>\n",
       "      <th>want_it</th>\n",
       "    </tr>\n",
       "  </thead>\n",
       "  <tbody>\n",
       "    <tr>\n",
       "      <th>minifigs</th>\n",
       "      <td>1.0000</td>\n",
       "      <td>0.7002</td>\n",
       "      <td>0.7606</td>\n",
       "      <td>-0.1161</td>\n",
       "      <td>0.4841</td>\n",
       "    </tr>\n",
       "    <tr>\n",
       "      <th>pieces</th>\n",
       "      <td>0.7002</td>\n",
       "      <td>1.0000</td>\n",
       "      <td>0.9446</td>\n",
       "      <td>0.0027</td>\n",
       "      <td>0.6595</td>\n",
       "    </tr>\n",
       "    <tr>\n",
       "      <th>us_price</th>\n",
       "      <td>0.7606</td>\n",
       "      <td>0.9446</td>\n",
       "      <td>1.0000</td>\n",
       "      <td>-0.0651</td>\n",
       "      <td>0.6242</td>\n",
       "    </tr>\n",
       "    <tr>\n",
       "      <th>owner</th>\n",
       "      <td>-0.1161</td>\n",
       "      <td>0.0027</td>\n",
       "      <td>-0.0651</td>\n",
       "      <td>1.0000</td>\n",
       "      <td>0.4951</td>\n",
       "    </tr>\n",
       "    <tr>\n",
       "      <th>want_it</th>\n",
       "      <td>0.4841</td>\n",
       "      <td>0.6595</td>\n",
       "      <td>0.6242</td>\n",
       "      <td>0.4951</td>\n",
       "      <td>1.0000</td>\n",
       "    </tr>\n",
       "  </tbody>\n",
       "</table>\n",
       "</div>"
      ],
      "text/plain": [
       "          minifigs  pieces  us_price   owner  want_it\n",
       "minifigs    1.0000  0.7002    0.7606 -0.1161   0.4841\n",
       "pieces      0.7002  1.0000    0.9446  0.0027   0.6595\n",
       "us_price    0.7606  0.9446    1.0000 -0.0651   0.6242\n",
       "owner      -0.1161  0.0027   -0.0651  1.0000   0.4951\n",
       "want_it     0.4841  0.6595    0.6242  0.4951   1.0000"
      ]
     },
     "execution_count": 23,
     "metadata": {},
     "output_type": "execute_result"
    }
   ],
   "source": [
    "lego_df[['minifigs', 'pieces', 'us_price', 'owner', 'want_it']].corr().round(4)"
   ]
  },
  {
   "cell_type": "markdown",
   "metadata": {},
   "source": [
    "### List 5.32"
   ]
  },
  {
   "cell_type": "code",
   "execution_count": 24,
   "metadata": {},
   "outputs": [
    {
     "data": {
      "text/plain": [
       "(0.94462114898306215, 4.1838940534637179e-213)"
      ]
     },
     "execution_count": 24,
     "metadata": {},
     "output_type": "execute_result"
    }
   ],
   "source": [
    "from scipy.stats import pearsonr, linregress\n",
    "pearsonr(lego_df['pieces'], lego_df['us_price'])"
   ]
  },
  {
   "cell_type": "markdown",
   "metadata": {},
   "source": [
    "### List 5.33"
   ]
  },
  {
   "cell_type": "code",
   "execution_count": 25,
   "metadata": {},
   "outputs": [
    {
     "data": {
      "text/plain": [
       "LinregressResult(slope=0.088325716470023505, intercept=7.5276953841688261, rvalue=0.94462114898306204, pvalue=4.183894053465568e-213, stderr=0.0014695207825678772)"
      ]
     },
     "execution_count": 25,
     "metadata": {},
     "output_type": "execute_result"
    }
   ],
   "source": [
    "linregress(lego_df['pieces'], lego_df['us_price'])"
   ]
  },
  {
   "cell_type": "markdown",
   "metadata": {},
   "source": [
    "### List 5.34"
   ]
  },
  {
   "cell_type": "code",
   "execution_count": 26,
   "metadata": {},
   "outputs": [
    {
     "data": {
      "text/plain": [
       "52.0"
      ]
     },
     "execution_count": 26,
     "metadata": {},
     "output_type": "execute_result"
    }
   ],
   "source": [
    "slope, intercept, rvalue, pvalue, stderr = linregress(\n",
    "    lego_df['pieces'],\n",
    "    lego_df['us_price'])\n",
    "pieces = 500\n",
    "# Y = aX + b\n",
    "price = slope * pieces + intercept\n",
    "round(price)"
   ]
  },
  {
   "cell_type": "markdown",
   "metadata": {},
   "source": [
    "### List 5.35"
   ]
  },
  {
   "cell_type": "code",
   "execution_count": 27,
   "metadata": {},
   "outputs": [],
   "source": [
    "SLOPE, INTERCEPT, rvalue, pvalue, stder = linregress(\n",
    "    lego_df['pieces'],\n",
    "    lego_df['us_price'])\n",
    "\n",
    "def get_price(pieces):\n",
    "    return pieces * SLOPE + INTERCEPT"
   ]
  },
  {
   "cell_type": "markdown",
   "metadata": {},
   "source": [
    "### List 5.36"
   ]
  },
  {
   "cell_type": "code",
   "execution_count": 28,
   "metadata": {},
   "outputs": [
    {
     "data": {
      "image/png": "[encoded data removed]",
      "text/plain": [
       "<matplotlib.figure.Figure at 0x1176c7ba8>"
      ]
     },
     "metadata": {},
     "output_type": "display_data"
    }
   ],
   "source": [
    "from matplotlib import pyplot as plt\n",
    "\n",
    "figure = plt.figure(figsize=(8, 8))\n",
    "ax1 = figure.add_subplot(111)\n",
    "\n",
    "lego_df.plot.scatter(ax=ax1, x='pieces', y='us_price', grid=True, color='c')\n",
    "\n",
    "max_piece = lego_df['pieces'].max()\n",
    "\n",
    "x = [0, max_piece]\n",
    "y = [get_price(0), get_price(max_piece)]\n",
    "\n",
    "ax1.plot(x, y)\n",
    "\n",
    "plt.show()"
   ]
  },
  {
   "cell_type": "code",
   "execution_count": null,
   "metadata": {},
   "outputs": [],
   "source": []
  }
 ],
 "metadata": {
  "kernelspec": {
   "display_name": "Python 3",
   "language": "python",
   "name": "python3"
  },
  "language_info": {
   "codemirror_mode": {
    "name": "ipython",
    "version": 3
   },
   "file_extension": ".py",
   "mimetype": "text/x-python",
   "name": "python",
   "nbconvert_exporter": "python",
   "pygments_lexer": "ipython3",
   "version": "3.6.2"
  }
 },
 "nbformat": 4,
 "nbformat_minor": 2
}
